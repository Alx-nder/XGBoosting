{
 "cells": [
  {
   "cell_type": "code",
   "execution_count": 17,
   "metadata": {},
   "outputs": [],
   "source": [
    "import pandas as pd\n",
    "import urllib.request\n",
    "import zipfile"
   ]
  },
  {
   "cell_type": "code",
   "execution_count": 18,
   "metadata": {},
   "outputs": [],
   "source": [
    "url=\"https://github.com/mattharrison/datasets/raw/master/data/kaggle-survey-2018.zip\"\n",
    "fname='kaggle-survey-2018.zip'\n",
    "member_name='multipleChoiceResponses.csv'\n"
   ]
  },
  {
   "cell_type": "code",
   "execution_count": 19,
   "metadata": {},
   "outputs": [],
   "source": [
    "def extract_zip(src,dest, member_name):\n",
    "    url=src\n",
    "    fname=dest\n",
    "    fin=urllib.request.urlopen(url)\n",
    "    data=fin.read()\n",
    "\n",
    "    with open(dest,mode='wb') as fout:\n",
    "        fout.write(data)\n",
    "    with zipfile.ZipFile(dest) as z:\n",
    "        kag=pd.read_csv(z.open(member_name))\n",
    "        kag_question=kag.iloc[0]\n",
    "        raw=kag.iloc[1:]\n",
    "        return raw"
   ]
  },
  {
   "cell_type": "code",
   "execution_count": 20,
   "metadata": {},
   "outputs": [
    {
     "name": "stderr",
     "output_type": "stream",
     "text": [
      "C:\\Users\\Tyreek ALEXANDER\\AppData\\Local\\Temp\\ipykernel_948\\2146811015.py:10: DtypeWarning: Columns (0,2,8,10,21,23,24,25,26,27,28,44,56,64,83,85,87,107,109,123,125,150,157,172,174,194,210,218,219,223,246,249,262,264,276,277,278,279,280,281,282,283,284,285,286,287,288,289,290,304,306,325,326,329,341,368,371,384,385,389,390,391,393,394) have mixed types. Specify dtype option on import or set low_memory=False.\n",
      "  kag=pd.read_csv(z.open(member_name))\n"
     ]
    }
   ],
   "source": [
    "raw = extract_zip(url,fname,member_name)"
   ]
  }
 ],
 "metadata": {
  "kernelspec": {
   "display_name": "Python 3",
   "language": "python",
   "name": "python3"
  },
  "language_info": {
   "codemirror_mode": {
    "name": "ipython",
    "version": 3
   },
   "file_extension": ".py",
   "mimetype": "text/x-python",
   "name": "python",
   "nbconvert_exporter": "python",
   "pygments_lexer": "ipython3",
   "version": "3.10.5"
  },
  "orig_nbformat": 4,
  "vscode": {
   "interpreter": {
    "hash": "d99b9486167083df4f1e8391ab0f3764e7c9aa7658f3f0f4156313e616ab1448"
   }
  }
 },
 "nbformat": 4,
 "nbformat_minor": 2
}
