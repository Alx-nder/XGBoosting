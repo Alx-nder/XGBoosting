{
 "cells": [
  {
   "cell_type": "code",
   "execution_count": 1,
   "metadata": {},
   "outputs": [],
   "source": [
    "import pandas as pd\n",
    "import urllib.request\n",
    "import zipfile"
   ]
  },
  {
   "cell_type": "code",
   "execution_count": 2,
   "metadata": {},
   "outputs": [],
   "source": [
    "url=\"https://github.com/mattharrison/datasets/raw/master/data/kaggle-survey-2018.zip\"\n",
    "fname='kaggle-survey-2018.zip'\n",
    "member_name='multipleChoiceResponses.csv'\n"
   ]
  },
  {
   "cell_type": "code",
   "execution_count": 3,
   "metadata": {},
   "outputs": [],
   "source": [
    "def extract_zip(src,dest, member_name):\n",
    "    url=src\n",
    "    fname=dest\n",
    "    fin=urllib.request.urlopen(url)\n",
    "    data=fin.read()\n",
    "\n",
    "    with open(dest,mode='wb') as fout:\n",
    "        fout.write(data)\n",
    "    with zipfile.ZipFile(dest) as z:\n",
    "        kag=pd.read_csv(z.open(member_name))\n",
    "        kag_question=kag.iloc[0]\n",
    "        raw=kag.iloc[1:]\n",
    "        return raw"
   ]
  },
  {
   "cell_type": "code",
   "execution_count": 4,
   "metadata": {},
   "outputs": [
    {
     "name": "stderr",
     "output_type": "stream",
     "text": [
      "C:\\Users\\Tyreek ALEXANDER\\AppData\\Local\\Temp\\ipykernel_6964\\2146811015.py:10: DtypeWarning: Columns (0,2,8,10,21,23,24,25,26,27,28,44,56,64,83,85,87,107,109,123,125,150,157,172,174,194,210,218,219,223,246,249,262,264,276,277,278,279,280,281,282,283,284,285,286,287,288,289,290,304,306,325,326,329,341,368,371,384,385,389,390,391,393,394) have mixed types. Specify dtype option on import or set low_memory=False.\n",
      "  kag=pd.read_csv(z.open(member_name))\n"
     ]
    }
   ],
   "source": [
    "raw = extract_zip(url,fname,member_name)"
   ]
  },
  {
   "cell_type": "code",
   "execution_count": 6,
   "metadata": {},
   "outputs": [],
   "source": [
    "def topn(ser, n=5, default='other'):\n",
    "    counts = ser.value_counts()\n",
    "    return ser.where(ser.isin(counts.index[:n]), default)\n",
    "\n",
    "def tweak_kag(df):\n",
    "    return (df\n",
    "        .loc[df.Q3.isin([\"United States of America\", \"China\", \"India\"]) &\n",
    "             df.Q6.isin([\"Data Scientist\", \"Software Engineer\"])]\n",
    "        .pipe(lambda df_:\n",
    "            df_.assign(**(df_.Q1.pipe(pd.get_dummies, drop_first=True, prefix='gender')),\n",
    "                       age=df_.Q2.str.slice(0,2).astype(int),\n",
    "                       **(df_.Q3.pipe(pd.get_dummies, drop_first=True, prefix='country')),\n",
    "                       education=df_.Q4.replace({'Master’s degree': 18,\n",
    "                         'Bachelor’s degree': 16,\n",
    "                         'Doctoral degree': 20,\n",
    "                         'Some college/university study without earning a bachelor’s degree': 13,\n",
    "                         'Professional degree': 19,\n",
    "                         'I prefer not to answer': None,\n",
    "                         'No formal education past high school': 12}),\n",
    "                       **(df_.Q5\n",
    "                              .pipe(topn, n=3)\n",
    "                              .replace({\n",
    "                        'Computer science (software engineering, etc.)': 'cs',\n",
    "                        'Engineering (non-computer focused)': 'eng',\n",
    "                        'Mathematics or statistics': 'stat'})\n",
    "                              .pipe(pd.get_dummies, drop_first=True, prefix='major')),\n",
    "                       title=df_.Q6,\n",
    "                       years_exp=(df_.Q8.str.replace('+','', regex=False)\n",
    "                           .str.split('-', expand=True)\n",
    "                           .iloc[:,0]\n",
    "                           .astype(float)),\n",
    "                       compensation=(df_.Q9.str.replace('+','', regex=False)\n",
    "                           .str.replace(',','', regex=False)\n",
    "                           .str.replace('500000', '500', regex=False)\n",
    "                           .str.replace('I do not wish to disclose my approximate yearly compensation', '0', regex=False)\n",
    "                           .str.split('-', expand=True)\n",
    "                           .iloc[:,0]\n",
    "                           .fillna(0)\n",
    "                           .astype(int)\n",
    "                           .mul(1_000)\n",
    "                                    ),\n",
    "                       python=df_.Q16_Part_1.fillna(0).replace('Python', 1),\n",
    "                       r=df_.Q16_Part_2.fillna(0).replace('R', 1),\n",
    "                       sql=df_.Q16_Part_3.fillna(0).replace('SQL', 1)\n",
    "               )#assign\n",
    "              \n",
    "        )#pipe\n",
    "        .rename(columns=lambda col:col.replace(' ', '_'))\n",
    "        .loc[:, 'gender_Male':]   \n",
    "        .dropna()\n",
    "       )"
   ]
  },
  {
   "cell_type": "code",
   "execution_count": 17,
   "metadata": {},
   "outputs": [
    {
     "name": "stdout",
     "output_type": "stream",
     "text": [
      "None\n"
     ]
    }
   ],
   "source": [
    "def hi(wow):\n",
    "    return(wow\n",
    "        #    .pop()\n",
    "           .append(wow.append([1]))\n",
    "           )\n",
    "\n",
    "print(hi([\"word\"]))\n"
   ]
  }
 ],
 "metadata": {
  "kernelspec": {
   "display_name": "Python 3",
   "language": "python",
   "name": "python3"
  },
  "language_info": {
   "codemirror_mode": {
    "name": "ipython",
    "version": 3
   },
   "file_extension": ".py",
   "mimetype": "text/x-python",
   "name": "python",
   "nbconvert_exporter": "python",
   "pygments_lexer": "ipython3",
   "version": "3.10.5"
  },
  "orig_nbformat": 4,
  "vscode": {
   "interpreter": {
    "hash": "d99b9486167083df4f1e8391ab0f3764e7c9aa7658f3f0f4156313e616ab1448"
   }
  }
 },
 "nbformat": 4,
 "nbformat_minor": 2
}
