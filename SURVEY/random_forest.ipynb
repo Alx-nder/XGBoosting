{
 "cells": [
  {
   "cell_type": "code",
   "execution_count": 11,
   "metadata": {},
   "outputs": [],
   "source": [
    "from preprocessing import *"
   ]
  },
  {
   "cell_type": "code",
   "execution_count": 12,
   "metadata": {},
   "outputs": [
    {
     "data": {
      "text/plain": [
       "0.7237569060773481"
      ]
     },
     "execution_count": 12,
     "metadata": {},
     "output_type": "execute_result"
    }
   ],
   "source": [
    "#random forest\n",
    "from sklearn import ensemble\n",
    "rf=ensemble.RandomForestClassifier(random_state=42)\n",
    "rf.fit(Xtrain,kag_y_train)\n",
    "rf.score(Xtest,kag_y_test)"
   ]
  },
  {
   "cell_type": "code",
   "execution_count": 13,
   "metadata": {},
   "outputs": [
    {
     "data": {
      "text/plain": [
       "{'bootstrap': True,\n",
       " 'ccp_alpha': 0.0,\n",
       " 'class_weight': None,\n",
       " 'criterion': 'gini',\n",
       " 'max_depth': None,\n",
       " 'max_features': 'sqrt',\n",
       " 'max_leaf_nodes': None,\n",
       " 'max_samples': None,\n",
       " 'min_impurity_decrease': 0.0,\n",
       " 'min_samples_leaf': 1,\n",
       " 'min_samples_split': 2,\n",
       " 'min_weight_fraction_leaf': 0.0,\n",
       " 'n_estimators': 100,\n",
       " 'n_jobs': None,\n",
       " 'oob_score': False,\n",
       " 'random_state': 42,\n",
       " 'verbose': 0,\n",
       " 'warm_start': False}"
      ]
     },
     "execution_count": 13,
     "metadata": {},
     "output_type": "execute_result"
    }
   ],
   "source": [
    "rf.get_params()"
   ]
  },
  {
   "cell_type": "code",
   "execution_count": 14,
   "metadata": {},
   "outputs": [
    {
     "data": {
      "text/plain": [
       "100"
      ]
     },
     "execution_count": 14,
     "metadata": {},
     "output_type": "execute_result"
    }
   ],
   "source": [
    "len(rf.estimators_)\n"
   ]
  },
  {
   "cell_type": "code",
   "execution_count": 15,
   "metadata": {},
   "outputs": [
    {
     "ename": "NameError",
     "evalue": "name 'plt' is not defined",
     "output_type": "error",
     "traceback": [
      "\u001b[1;31m---------------------------------------------------------------------------\u001b[0m",
      "\u001b[1;31mNameError\u001b[0m                                 Traceback (most recent call last)",
      "Cell \u001b[1;32mIn[15], line 1\u001b[0m\n\u001b[1;32m----> 1\u001b[0m fig,ax\u001b[39m=\u001b[39mplt\u001b[39m.\u001b[39msubplots(figsize\u001b[39m=\u001b[39m(\u001b[39m8\u001b[39m,\u001b[39m4\u001b[39m))\n\u001b[0;32m      2\u001b[0m features\u001b[39m=\u001b[39m\u001b[39mlist\u001b[39m(c \u001b[39mfor\u001b[39;00m c \u001b[39min\u001b[39;00m Xtrain\u001b[39m.\u001b[39mcolumns)\n\u001b[0;32m      3\u001b[0m tree\u001b[39m.\u001b[39mplot_tree(rf\u001b[39m.\u001b[39mestimators_[\u001b[39m0\u001b[39m],feature_names\u001b[39m=\u001b[39mfeatures,\n\u001b[0;32m      4\u001b[0m                filled\u001b[39m=\u001b[39m\u001b[39mTrue\u001b[39;00m,\n\u001b[0;32m      5\u001b[0m                class_names\u001b[39m=\u001b[39mrf\u001b[39m.\u001b[39mclasses_,\n\u001b[0;32m      6\u001b[0m                ax\u001b[39m=\u001b[39max,\n\u001b[0;32m      7\u001b[0m                max_depth\u001b[39m=\u001b[39m\u001b[39m2\u001b[39m,\n\u001b[0;32m      8\u001b[0m                fontsize\u001b[39m=\u001b[39m\u001b[39m6\u001b[39m)\n",
      "\u001b[1;31mNameError\u001b[0m: name 'plt' is not defined"
     ]
    }
   ],
   "source": [
    "fig,ax=plt.subplots(figsize=(8,4))\n",
    "features=list(c for c in Xtrain.columns)\n",
    "tree.plot_tree(rf.estimators_[0],feature_names=features,\n",
    "               filled=True,\n",
    "               class_names=rf.classes_,\n",
    "               ax=ax,\n",
    "               max_depth=2,\n",
    "               fontsize=6)"
   ]
  }
 ],
 "metadata": {
  "kernelspec": {
   "display_name": "Python 3",
   "language": "python",
   "name": "python3"
  },
  "language_info": {
   "codemirror_mode": {
    "name": "ipython",
    "version": 3
   },
   "file_extension": ".py",
   "mimetype": "text/x-python",
   "name": "python",
   "nbconvert_exporter": "python",
   "pygments_lexer": "ipython3",
   "version": "3.10.5"
  },
  "orig_nbformat": 4
 },
 "nbformat": 4,
 "nbformat_minor": 2
}
