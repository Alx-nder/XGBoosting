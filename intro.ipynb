{
 "cells": [
  {
   "cell_type": "code",
   "execution_count": 126,
   "metadata": {},
   "outputs": [],
   "source": [
    "import pandas as pd\n",
    "import urllib.request\n",
    "import zipfile"
   ]
  },
  {
   "cell_type": "code",
   "execution_count": 127,
   "metadata": {},
   "outputs": [],
   "source": [
    "url=\"https://github.com/mattharrison/datasets/raw/master/data/kaggle-survey-2018.zip\"\n",
    "fname='kaggle-survey-2018.zip'\n",
    "member_name='multipleChoiceResponses.csv'\n"
   ]
  },
  {
   "cell_type": "code",
   "execution_count": 128,
   "metadata": {},
   "outputs": [],
   "source": [
    "def extract_zip(src,dest, member_name):\n",
    "    url=src\n",
    "    fname=dest\n",
    "    fin=urllib.request.urlopen(url)\n",
    "    data=fin.read()\n",
    "\n",
    "    with open(dest,mode='wb') as fout:\n",
    "        fout.write(data)\n",
    "    with zipfile.ZipFile(dest) as z:\n",
    "        kag=pd.read_csv(z.open(member_name))\n",
    "        kag_question=kag.iloc[0]\n",
    "        raw=kag.iloc[1:]\n",
    "        return raw"
   ]
  },
  {
   "cell_type": "code",
   "execution_count": 129,
   "metadata": {},
   "outputs": [
    {
     "name": "stderr",
     "output_type": "stream",
     "text": [
      "C:\\Users\\Tyreek ALEXANDER\\AppData\\Local\\Temp\\ipykernel_10944\\2146811015.py:10: DtypeWarning: Columns (0,2,8,10,21,23,24,25,26,27,28,44,56,64,83,85,87,107,109,123,125,150,157,172,174,194,210,218,219,223,246,249,262,264,276,277,278,279,280,281,282,283,284,285,286,287,288,289,290,304,306,325,326,329,341,368,371,384,385,389,390,391,393,394) have mixed types. Specify dtype option on import or set low_memory=False.\n",
      "  kag=pd.read_csv(z.open(member_name))\n"
     ]
    }
   ],
   "source": [
    "raw = extract_zip(url,fname,member_name)"
   ]
  },
  {
   "cell_type": "code",
   "execution_count": 130,
   "metadata": {},
   "outputs": [],
   "source": [
    "def tweak_kag(df_:pd.DataFrame)-> pd.DataFrame:\n",
    "    return(df_\n",
    "           .assign(age=df_['Q2'].str.slice(0,2).astype(int),\n",
    "                   education=df_['Q4'].replace({\"Master's degree\":18,\"Bachelor's degree\":16,\"Doctoral degree\":20,\"Some college/univeristy study without earning a bachelor's degree\":13,\"Professional degree\":19,\"I prefer not to answer\":None,\"No formal education past high school\":12}),\n",
    "                   major=(df_['Q5']\n",
    "                          .pipe(topn,n=3)\n",
    "                          .replace({'Computer science(software engineering,etc.)':'cs',\n",
    "                                    \"Engineering (non-computer focused)\":'eng',\n",
    "                                    \"Mathematics or Statistcs\":'stat'})),\n",
    "                    years_exp=(df_.Q8.str.replace('+','',regex=False)\n",
    "                               .str.split('-',expand=True)\n",
    "                               .iloc[:,0]\n",
    "                               .astype(float)),\n",
    "                    compensation=(df_.Q9.str.replace('+','',regex=False)\n",
    "                                .str.replace(',','',regex=False)\n",
    "                                .str.replace('500000','500',regex=False)\n",
    "                                .str.replace('I do not wish to disclose my approximate yearly compensation','0',regex=False)\n",
    "                                .str.split('-',expand=True)\n",
    "                                .iloc[:,0]\n",
    "                                .fillna(0)\n",
    "                                .astype(int)\n",
    "                                .mul(1_000)),\n",
    "                    python=df_.Q16_Part_1.fillna(0).replace('Python',1),\n",
    "                    r=df_.Q16_Part_2.fillna(0).replace('R',1),\n",
    "                    sql=df_.Q16_Part_3.fillna(0).replace('SQL',1)\n",
    "                    )#end assign\n",
    "                .rename(columns=lambda col:col.replace(' ','_'))\n",
    "                .loc[:,'Q1,Q3,age,education,major,years_exp,compensation,python,r,sql'.split(',')]\n",
    "    \n",
    "\n",
    "    )\n",
    "def topn(ser,n=5,default='other'):\n",
    "    counts=ser.value_counts()\n",
    "    return ser.where(ser.isin(counts.index[:n]),default)"
   ]
  },
  {
   "cell_type": "code",
   "execution_count": 131,
   "metadata": {},
   "outputs": [],
   "source": [
    "from feature_engine import encoding,imputation\n",
    "from sklearn import base,pipeline\n",
    "\n",
    "class TweakKagTransformer(base.BaseEstimator,base.TransformerMixin):\n",
    "    def __inint__(self,ycol=None):\n",
    "        self.ycol=ycol\n",
    "    def transform(self,X):\n",
    "        return tweak_kag(X)\n",
    "    def fit(self,X,y=None):\n",
    "        return self\n",
    "\n"
   ]
  },
  {
   "cell_type": "code",
   "execution_count": 132,
   "metadata": {},
   "outputs": [],
   "source": [
    "def get_rawX_y(df,col_y):\n",
    "    raw=(df.query('Q3.isin([\"United States of America\",\"China\",\"India\"]) and Q6.isin([\"Data Scientist\",\"Software Engineer\"])'))\n",
    "    return raw.drop(columns=[col_y]) , raw[col_y]\n",
    "\n",
    "# pipeline\n",
    "kag_pl=pipeline.Pipeline([('tweak',TweakKagTransformer()),('cat',encoding.OneHotEncoder(top_categories=5,drop_last=True,variables=['Q1','Q3','major'])),('num_impute',imputation.MeanMedianImputer(imputation_method='median',variables=['education','years_exp']))]\n",
    ")"
   ]
  },
  {
   "cell_type": "code",
   "execution_count": 133,
   "metadata": {},
   "outputs": [
    {
     "ename": "TypeError",
     "evalue": "Some of the variables are not numerical. Please cast them as numerical before using this transformer.",
     "output_type": "error",
     "traceback": [
      "\u001b[1;31m---------------------------------------------------------------------------\u001b[0m",
      "\u001b[1;31mTypeError\u001b[0m                                 Traceback (most recent call last)",
      "Cell \u001b[1;32mIn[133], line 6\u001b[0m\n\u001b[0;32m      2\u001b[0m kag_X,kag_y\u001b[39m=\u001b[39mget_rawX_y(raw,\u001b[39m'\u001b[39m\u001b[39mQ6\u001b[39m\u001b[39m'\u001b[39m)\n\u001b[0;32m      4\u001b[0m kag_X_train,kag_X_test,kag_y_train,kag_y_test\u001b[39m=\u001b[39mmodel_selection\u001b[39m.\u001b[39mtrain_test_split(kag_X,kag_y,test_size\u001b[39m=\u001b[39m\u001b[39m.3\u001b[39m,random_state\u001b[39m=\u001b[39m\u001b[39m42\u001b[39m,stratify\u001b[39m=\u001b[39mkag_y)\n\u001b[1;32m----> 6\u001b[0m Xtrain\u001b[39m=\u001b[39mkag_pl\u001b[39m.\u001b[39;49mfit_transform(kag_X_train,kag_y_train)\n\u001b[0;32m      7\u001b[0m Xtest\u001b[39m=\u001b[39mkag_pl\u001b[39m.\u001b[39mtransform(kag_X_test)\n\u001b[0;32m      8\u001b[0m \u001b[39mprint\u001b[39m(Xtrain)\n",
      "File \u001b[1;32mc:\\Users\\Tyreek ALEXANDER\\AppData\\Local\\Programs\\Python\\Python310\\lib\\site-packages\\sklearn\\pipeline.py:422\u001b[0m, in \u001b[0;36mPipeline.fit_transform\u001b[1;34m(self, X, y, **fit_params)\u001b[0m\n\u001b[0;32m    420\u001b[0m fit_params_last_step \u001b[39m=\u001b[39m fit_params_steps[\u001b[39mself\u001b[39m\u001b[39m.\u001b[39msteps[\u001b[39m-\u001b[39m\u001b[39m1\u001b[39m][\u001b[39m0\u001b[39m]]\n\u001b[0;32m    421\u001b[0m \u001b[39mif\u001b[39;00m \u001b[39mhasattr\u001b[39m(last_step, \u001b[39m\"\u001b[39m\u001b[39mfit_transform\u001b[39m\u001b[39m\"\u001b[39m):\n\u001b[1;32m--> 422\u001b[0m     \u001b[39mreturn\u001b[39;00m last_step\u001b[39m.\u001b[39mfit_transform(Xt, y, \u001b[39m*\u001b[39m\u001b[39m*\u001b[39mfit_params_last_step)\n\u001b[0;32m    423\u001b[0m \u001b[39melse\u001b[39;00m:\n\u001b[0;32m    424\u001b[0m     \u001b[39mreturn\u001b[39;00m last_step\u001b[39m.\u001b[39mfit(Xt, y, \u001b[39m*\u001b[39m\u001b[39m*\u001b[39mfit_params_last_step)\u001b[39m.\u001b[39mtransform(Xt)\n",
      "File \u001b[1;32mc:\\Users\\Tyreek ALEXANDER\\AppData\\Local\\Programs\\Python\\Python310\\lib\\site-packages\\sklearn\\base.py:870\u001b[0m, in \u001b[0;36mTransformerMixin.fit_transform\u001b[1;34m(self, X, y, **fit_params)\u001b[0m\n\u001b[0;32m    867\u001b[0m     \u001b[39mreturn\u001b[39;00m \u001b[39mself\u001b[39m\u001b[39m.\u001b[39mfit(X, \u001b[39m*\u001b[39m\u001b[39m*\u001b[39mfit_params)\u001b[39m.\u001b[39mtransform(X)\n\u001b[0;32m    868\u001b[0m \u001b[39melse\u001b[39;00m:\n\u001b[0;32m    869\u001b[0m     \u001b[39m# fit method of arity 2 (supervised transformation)\u001b[39;00m\n\u001b[1;32m--> 870\u001b[0m     \u001b[39mreturn\u001b[39;00m \u001b[39mself\u001b[39m\u001b[39m.\u001b[39mfit(X, y, \u001b[39m*\u001b[39m\u001b[39m*\u001b[39mfit_params)\u001b[39m.\u001b[39mtransform(X)\n",
      "File \u001b[1;32mc:\\Users\\Tyreek ALEXANDER\\AppData\\Local\\Programs\\Python\\Python310\\lib\\site-packages\\feature_engine\\imputation\\mean_median.py:128\u001b[0m, in \u001b[0;36mMeanMedianImputer.fit\u001b[1;34m(self, X, y)\u001b[0m\n\u001b[0;32m    125\u001b[0m X \u001b[39m=\u001b[39m check_X(X)\n\u001b[0;32m    127\u001b[0m \u001b[39m# find or check for numerical variables\u001b[39;00m\n\u001b[1;32m--> 128\u001b[0m \u001b[39mself\u001b[39m\u001b[39m.\u001b[39mvariables_ \u001b[39m=\u001b[39m find_or_check_numerical_variables(X, \u001b[39mself\u001b[39;49m\u001b[39m.\u001b[39;49mvariables)\n\u001b[0;32m    130\u001b[0m \u001b[39m# find imputation parameters: mean or median\u001b[39;00m\n\u001b[0;32m    131\u001b[0m \u001b[39mif\u001b[39;00m \u001b[39mself\u001b[39m\u001b[39m.\u001b[39mimputation_method \u001b[39m==\u001b[39m \u001b[39m\"\u001b[39m\u001b[39mmean\u001b[39m\u001b[39m\"\u001b[39m:\n",
      "File \u001b[1;32mc:\\Users\\Tyreek ALEXANDER\\AppData\\Local\\Programs\\Python\\Python310\\lib\\site-packages\\feature_engine\\variable_handling\\variable_type_selection.py:79\u001b[0m, in \u001b[0;36mfind_or_check_numerical_variables\u001b[1;34m(X, variables)\u001b[0m\n\u001b[0;32m     76\u001b[0m     \u001b[39m# check that user entered variables are of type numerical\u001b[39;00m\n\u001b[0;32m     77\u001b[0m     \u001b[39melse\u001b[39;00m:\n\u001b[0;32m     78\u001b[0m         \u001b[39mif\u001b[39;00m \u001b[39mlen\u001b[39m(X[variables]\u001b[39m.\u001b[39mselect_dtypes(exclude\u001b[39m=\u001b[39m\u001b[39m\"\u001b[39m\u001b[39mnumber\u001b[39m\u001b[39m\"\u001b[39m)\u001b[39m.\u001b[39mcolumns) \u001b[39m>\u001b[39m \u001b[39m0\u001b[39m:\n\u001b[1;32m---> 79\u001b[0m             \u001b[39mraise\u001b[39;00m \u001b[39mTypeError\u001b[39;00m(\n\u001b[0;32m     80\u001b[0m                 \u001b[39m\"\u001b[39m\u001b[39mSome of the variables are not numerical. Please cast them as \u001b[39m\u001b[39m\"\u001b[39m\n\u001b[0;32m     81\u001b[0m                 \u001b[39m\"\u001b[39m\u001b[39mnumerical before using this transformer.\u001b[39m\u001b[39m\"\u001b[39m\n\u001b[0;32m     82\u001b[0m             )\n\u001b[0;32m     84\u001b[0m \u001b[39mreturn\u001b[39;00m variables\n",
      "\u001b[1;31mTypeError\u001b[0m: Some of the variables are not numerical. Please cast them as numerical before using this transformer."
     ]
    }
   ],
   "source": [
    "from sklearn import model_selection\n",
    "kag_X,kag_y=get_rawX_y(raw,'Q6')\n",
    "\n",
    "kag_X_train,kag_X_test,kag_y_train,kag_y_test=model_selection.train_test_split(kag_X,kag_y,test_size=.3,random_state=42,stratify=kag_y)\n",
    "\n",
    "Xtrain=kag_pl.fit_transform(kag_X_train,kag_y_train)\n",
    "Xtest=kag_pl.transform(kag_X_test)\n",
    "print(Xtrain)"
   ]
  }
 ],
 "metadata": {
  "kernelspec": {
   "display_name": "Python 3",
   "language": "python",
   "name": "python3"
  },
  "language_info": {
   "codemirror_mode": {
    "name": "ipython",
    "version": 3
   },
   "file_extension": ".py",
   "mimetype": "text/x-python",
   "name": "python",
   "nbconvert_exporter": "python",
   "pygments_lexer": "ipython3",
   "version": "3.10.5"
  },
  "orig_nbformat": 4,
  "vscode": {
   "interpreter": {
    "hash": "d99b9486167083df4f1e8391ab0f3764e7c9aa7658f3f0f4156313e616ab1448"
   }
  }
 },
 "nbformat": 4,
 "nbformat_minor": 2
}
