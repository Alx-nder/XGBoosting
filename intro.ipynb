{
 "cells": [
  {
   "cell_type": "code",
   "execution_count": 1,
   "metadata": {},
   "outputs": [],
   "source": [
    "import pandas as pd\n",
    "import urllib.request\n",
    "import zipfile"
   ]
  },
  {
   "cell_type": "code",
   "execution_count": 2,
   "metadata": {},
   "outputs": [],
   "source": [
    "url=\"https://github.com/mattharrison/datasets/raw/master/data/kaggle-survey-2018.zip\"\n",
    "fname='kaggle-survey-2018.zip'\n",
    "member_name='multipleChoiceResponses.csv'\n"
   ]
  },
  {
   "cell_type": "code",
   "execution_count": 3,
   "metadata": {},
   "outputs": [],
   "source": [
    "def extract_zip(src,dest, member_name):\n",
    "    url=src\n",
    "    fname=dest\n",
    "    fin=urllib.request.urlopen(url)\n",
    "    data=fin.read()\n",
    "\n",
    "    with open(dest,mode='wb') as fout:\n",
    "        fout.write(data)\n",
    "    with zipfile.ZipFile(dest) as z:\n",
    "        kag=pd.read_csv(z.open(member_name))\n",
    "        kag_question=kag.iloc[0]\n",
    "        raw=kag.iloc[1:]\n",
    "        return raw"
   ]
  },
  {
   "cell_type": "code",
   "execution_count": 4,
   "metadata": {},
   "outputs": [
    {
     "name": "stderr",
     "output_type": "stream",
     "text": [
      "C:\\Users\\Tyreek ALEXANDER\\AppData\\Local\\Temp\\ipykernel_10944\\2146811015.py:10: DtypeWarning: Columns (0,2,8,10,21,23,24,25,26,27,28,44,56,64,83,85,87,107,109,123,125,150,157,172,174,194,210,218,219,223,246,249,262,264,276,277,278,279,280,281,282,283,284,285,286,287,288,289,290,304,306,325,326,329,341,368,371,384,385,389,390,391,393,394) have mixed types. Specify dtype option on import or set low_memory=False.\n",
      "  kag=pd.read_csv(z.open(member_name))\n"
     ]
    }
   ],
   "source": [
    "raw = extract_zip(url,fname,member_name)"
   ]
  },
  {
   "cell_type": "code",
   "execution_count": 5,
   "metadata": {},
   "outputs": [],
   "source": [
    "def tweak_kag(df_:pd.DataFrame)-> pd.DataFrame:\n",
    "    return(df_\n",
    "           .assign(age=df_.Q2.str.slice(0,2).astype(int),education=df_.Q4.replace({\"Master\\'s degree\":18,\"Bachelor\\'s degree\":16,\"Doctoral degree\":20,\"Some college/univeristy study without earning a bachelor\\'s degree\":13,\"Professional degree\":19,\"I prefer not to answer\":None,\"No formal education past high school\":12}),major=(df_.Q5\n",
    "                                                                                                                                                                                                                                                                                                                                        .pipe(topn,n=3)\n",
    "                                                                                                                                                                                                                                                                                                                                        .replace({'Computer science(software engineering,etc.)':'cs',\"Engineering (non-computer focused)\":'eng',\"Mathematics or Statistcs\":'stat'})\n",
    "                                                                                                                                                                                                                                                                                                                                        ),\n",
    "                                                                                                                                                                                                                                                                                                                                         years_exp=(df_.Q8.str.replace('+','',regex=False)\n",
    "                                                                                                                                                                                                                                                                                                                                        .str.split('-',expand=True)\n",
    "                                                                                                                                                                                                                                                                                                                                        .iloc[:,0]\n",
    "                                                                                                                                                                                                                                                                                                                                        .astype(float)),\n",
    "                                                                                                                                                                                                                                                                                                                                        compensation=(df_.Q9.str.replace('+','',regex=False)\n",
    "                                                                                                                                                                                                                                                                                                                                                      .str.replace(',','',regex=False)\n",
    "                                                                                                                                                                                                                                                                                                                                                      .str.replace('500000','500',regex=False)\n",
    "                                                                                                                                                                                                                                                                                                                                                      .str.replace('I do not wisj to disclose my approximate yearly compensation','0',regex=False)\n",
    "                                                                                                                                                                                                                                                                                                                                                      .str.split('-',expand=True)\n",
    "                                                                                                                                                                                                                                                                                                                                                      .iloc[:,0]\n",
    "                                                                                                                                                                                                                                                                                                                                                      .fillna(0)\n",
    "                                                                                                                                                                                                                                                                                                                                                      .astype(int)\n",
    "                                                                                                                                                                                                                                                                                                                                                      .mul(1_000)),\n",
    "                                                                                                                                                                                                                                                                                                                                                      python=df_.Q16_Part_1.fillna(0).replace('Python',1),\n",
    "                                                                                                                                                                                                                                                                                                                                                      r=df_.Q16_Part_2.fillna(0).replace('R',1),\n",
    "                                                                                                                                                                                                                                                                                                                                                      sql=df_.Q16_Part_3.fillna(0).replace('SQL',1)\n",
    "                                                                                                                                                                                                                                                                                                                                                      )#end assign\n",
    "                                                                                                                                                                                                                                                                                                                                                      .rename(columns=lambda col:col.replace('','_'))\n",
    "                                                                                                                                                                                                                                                                                                                                                      .loc[:,'Q1,Q3,age,education,major,years_exp,compensation,python,r,sql'.split(',')]\n",
    "    )\n",
    "def topn(ser,n=5,default='other'):\n",
    "    counts=ser.value_counts()\n",
    "    return ser.where(ser.isin(counts.index[:n]),default)"
   ]
  },
  {
   "cell_type": "code",
   "execution_count": 6,
   "metadata": {},
   "outputs": [],
   "source": [
    "from feature_engine import encoding,imputation\n",
    "from sklearn import base,pipeline\n",
    "\n",
    "class TweakKagTransformer(base.BaseEstimator,base.TransformerMixin):\n",
    "    def __inint__(self,ycol=None):\n",
    "        self.ycol=ycol\n",
    "    def transform(self,X):\n",
    "        return tweak_kag(X)\n",
    "    def fit(self,X,y=None):\n",
    "        return self\n",
    "\n"
   ]
  },
  {
   "cell_type": "code",
   "execution_count": null,
   "metadata": {},
   "outputs": [],
   "source": [
    "# pipeline\n",
    "kag_pl=pipeline.Pipeline(\n",
    "    [('tweak',TweakKagTransformer()),('cat',encoding.OneHotEncoder(top_categories=5,drop_last=True,variables=['Q1','Q3','major'])),('nun_impute',imputation.MeanMedianImputer(imputation_method='median',variables=['education','years_exp']))]\n",
    ")"
   ]
  }
 ],
 "metadata": {
  "kernelspec": {
   "display_name": "Python 3",
   "language": "python",
   "name": "python3"
  },
  "language_info": {
   "codemirror_mode": {
    "name": "ipython",
    "version": 3
   },
   "file_extension": ".py",
   "mimetype": "text/x-python",
   "name": "python",
   "nbconvert_exporter": "python",
   "pygments_lexer": "ipython3",
   "version": "3.10.5"
  },
  "orig_nbformat": 4,
  "vscode": {
   "interpreter": {
    "hash": "d99b9486167083df4f1e8391ab0f3764e7c9aa7658f3f0f4156313e616ab1448"
   }
  }
 },
 "nbformat": 4,
 "nbformat_minor": 2
}
