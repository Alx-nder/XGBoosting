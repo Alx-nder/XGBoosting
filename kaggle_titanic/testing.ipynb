{
 "cells": [
  {
   "cell_type": "code",
   "execution_count": 314,
   "metadata": {},
   "outputs": [],
   "source": [
    "import pandas as pd\n",
    "import opendatasets as od\n"
   ]
  },
  {
   "cell_type": "code",
   "execution_count": 315,
   "metadata": {},
   "outputs": [],
   "source": [
    "# od.download(\"https://www.kaggle.com/competitions/spaceship-titanic\")"
   ]
  },
  {
   "cell_type": "code",
   "execution_count": 316,
   "metadata": {},
   "outputs": [],
   "source": [
    "raw_data=pd.read_csv('spaceship-titanic/train.csv')\n",
    "# raw_data=raw_data[~raw_data['Cabin'].isnull()]\n",
    "\n"
   ]
  },
  {
   "cell_type": "code",
   "execution_count": 317,
   "metadata": {},
   "outputs": [],
   "source": [
    "ytrain=raw_data['Transported']"
   ]
  },
  {
   "cell_type": "code",
   "execution_count": 318,
   "metadata": {},
   "outputs": [],
   "source": [
    "\n",
    "\n",
    "def clean_dt(raw_data):\n",
    "    return (raw_data\n",
    "    .drop(columns=['Name','PassengerId','Destination','HomePlanet','VIP','Age'])\n",
    "    .assign(\n",
    "        RoomService=raw_data.RoomService.fillna(0).replace('nan',0),\n",
    "        CryoSleep=raw_data.CryoSleep.fillna(False),\n",
    "        # VIP=raw_data.VIP.fillna(False).replace('nan',0),\n",
    "        FoodCourt=raw_data.FoodCourt.fillna(0).replace('nan',0),\n",
    "        ShoppingMall=raw_data.ShoppingMall.fillna(0).replace('nan',0),\n",
    "        Spa=raw_data.Spa.fillna(0).replace('nan',0),\n",
    "        VRDeck=raw_data.VRDeck.fillna(0).replace('nan',0),\n",
    "        # Cabin=raw_data.Cabin.str.split('/',expand=True)[2]=='S',\n",
    "        # Age=raw_data.Age.fillna(raw_data.Age.median())\n",
    "        )\n",
    "     \n",
    "    )\n",
    "\n"
   ]
  },
  {
   "cell_type": "code",
   "execution_count": 319,
   "metadata": {},
   "outputs": [],
   "source": [
    " # encoding boolean labels\n",
    "from sklearn import preprocessing\n",
    "\n",
    "def transform_step(raw_data):\n",
    "    label_encoder=preprocessing.LabelEncoder()\n",
    "    raw_data.CryoSleep=label_encoder.fit_transform(raw_data.CryoSleep).astype(int)\n",
    "    # raw_data.Cabin=label_encoder.fit_transform(raw_data.Cabin).astype(int)\n",
    "    # raw_data.VIP=label_encoder.fit_transform(raw_data.VIP)\n",
    "    # raw_data=pd.get_dummies(raw_data,columns=['Destination','HomePlanet'])\n",
    "    return raw_data"
   ]
  },
  {
   "cell_type": "code",
   "execution_count": 320,
   "metadata": {},
   "outputs": [],
   "source": [
    "res_encoder=preprocessing.LabelEncoder()\n",
    "\n",
    "ytrain=res_encoder.fit_transform(ytrain)"
   ]
  },
  {
   "cell_type": "code",
   "execution_count": 327,
   "metadata": {},
   "outputs": [
    {
     "data": {
      "text/plain": [
       "(      0     1  2\n",
       " 0     B     0  P\n",
       " 1     F     0  S\n",
       " 2     A     0  S\n",
       " 3     A     0  S\n",
       " 4     F     1  S\n",
       " ...  ..   ... ..\n",
       " 8688  A    98  P\n",
       " 8689  G  1499  S\n",
       " 8690  G  1500  S\n",
       " 8691  E   608  S\n",
       " 8692  E   608  S\n",
       " \n",
       " [8693 rows x 3 columns],)"
      ]
     },
     "execution_count": 327,
     "metadata": {},
     "output_type": "execute_result"
    }
   ],
   "source": [
    "  \n",
    "Xtrain=clean_dt(raw_data)\n",
    "Xtrain=transform_step(Xtrain)\n",
    "Xtrain.drop(columns=['Transported'],inplace=True)   \n",
    "\n",
    "cabins=Xtrain.Cabin.str.split('/',expand=True),\n",
    "cabins"
   ]
  },
  {
   "cell_type": "code",
   "execution_count": 322,
   "metadata": {},
   "outputs": [],
   "source": [
    "raw_test=pd.read_csv('spaceship-titanic/test.csv')\n",
    "# raw_test=raw_test[~raw_test['Cabin'].isnull()]\n",
    "\n",
    "Xtest=clean_dt(raw_test)\n",
    "Xtest=transform_step(Xtest)"
   ]
  },
  {
   "cell_type": "code",
   "execution_count": 323,
   "metadata": {},
   "outputs": [],
   "source": [
    "# Port=Xtrain.Cabin.str.split('/',expand=True)\n",
    "# new_cab=new_cab[2]\n",
    "# S_Cabin= Xtrain.loc[].split()== \"S\"\n",
    "# Xtrain=Xtrain[~Xtrain['Cabin'].isnull()]"
   ]
  },
  {
   "cell_type": "code",
   "execution_count": 324,
   "metadata": {},
   "outputs": [
    {
     "data": {
      "text/plain": [
       "CryoSleep         int32\n",
       "Cabin            object\n",
       "RoomService     float64\n",
       "FoodCourt       float64\n",
       "ShoppingMall    float64\n",
       "Spa             float64\n",
       "VRDeck          float64\n",
       "dtype: object"
      ]
     },
     "execution_count": 324,
     "metadata": {},
     "output_type": "execute_result"
    }
   ],
   "source": [
    "Xtrain.dtypes"
   ]
  },
  {
   "cell_type": "code",
   "execution_count": 325,
   "metadata": {},
   "outputs": [
    {
     "data": {
      "text/html": [
       "<style type=\"text/css\">\n",
       "#T_95e43 thead tr th:nth-child(1) {\n",
       "  position: sticky;\n",
       "  background-color: white;\n",
       "  left: 0px;\n",
       "  z-index: 3 !important;\n",
       "}\n",
       "#T_95e43 tbody tr th:nth-child(1) {\n",
       "  position: sticky;\n",
       "  background-color: white;\n",
       "  left: 0px;\n",
       "  z-index: 1;\n",
       "}\n",
       "#T_95e43_row0_col0, #T_95e43_row1_col1, #T_95e43_row2_col2, #T_95e43_row3_col3, #T_95e43_row4_col4, #T_95e43_row5_col5, #T_95e43_row6_col6 {\n",
       "  background-color: #053061;\n",
       "  color: #f1f1f1;\n",
       "}\n",
       "#T_95e43_row0_col1, #T_95e43_row1_col0 {\n",
       "  background-color: #e37e64;\n",
       "  color: #f1f1f1;\n",
       "}\n",
       "#T_95e43_row0_col2, #T_95e43_row0_col5, #T_95e43_row2_col0, #T_95e43_row5_col0 {\n",
       "  background-color: #e27b62;\n",
       "  color: #f1f1f1;\n",
       "}\n",
       "#T_95e43_row0_col3, #T_95e43_row3_col0 {\n",
       "  background-color: #e48066;\n",
       "  color: #f1f1f1;\n",
       "}\n",
       "#T_95e43_row0_col4, #T_95e43_row4_col0 {\n",
       "  background-color: #df765e;\n",
       "  color: #f1f1f1;\n",
       "}\n",
       "#T_95e43_row0_col6, #T_95e43_row6_col0 {\n",
       "  background-color: #7bb6d6;\n",
       "  color: #000000;\n",
       "}\n",
       "#T_95e43_row1_col2, #T_95e43_row1_col5, #T_95e43_row2_col1, #T_95e43_row2_col3, #T_95e43_row3_col2, #T_95e43_row5_col1 {\n",
       "  background-color: #d4e6f1;\n",
       "  color: #000000;\n",
       "}\n",
       "#T_95e43_row1_col3, #T_95e43_row3_col1, #T_95e43_row4_col5, #T_95e43_row5_col4 {\n",
       "  background-color: #84bcd9;\n",
       "  color: #000000;\n",
       "}\n",
       "#T_95e43_row1_col4, #T_95e43_row4_col1 {\n",
       "  background-color: #c5dfec;\n",
       "  color: #000000;\n",
       "}\n",
       "#T_95e43_row1_col6, #T_95e43_row4_col6, #T_95e43_row6_col1, #T_95e43_row6_col4 {\n",
       "  background-color: #f6af8e;\n",
       "  color: #000000;\n",
       "}\n",
       "#T_95e43_row2_col4, #T_95e43_row4_col2 {\n",
       "  background-color: #75b2d4;\n",
       "  color: #f1f1f1;\n",
       "}\n",
       "#T_95e43_row2_col5, #T_95e43_row5_col2 {\n",
       "  background-color: #6bacd1;\n",
       "  color: #f1f1f1;\n",
       "}\n",
       "#T_95e43_row2_col6, #T_95e43_row6_col2 {\n",
       "  background-color: #fdddcb;\n",
       "  color: #000000;\n",
       "}\n",
       "#T_95e43_row3_col4, #T_95e43_row4_col3 {\n",
       "  background-color: #c0dceb;\n",
       "  color: #000000;\n",
       "}\n",
       "#T_95e43_row3_col5, #T_95e43_row5_col3 {\n",
       "  background-color: #d2e6f0;\n",
       "  color: #000000;\n",
       "}\n",
       "#T_95e43_row3_col6, #T_95e43_row6_col3 {\n",
       "  background-color: #fcd3bc;\n",
       "  color: #000000;\n",
       "}\n",
       "#T_95e43_row5_col6, #T_95e43_row6_col5 {\n",
       "  background-color: #f6b394;\n",
       "  color: #000000;\n",
       "}\n",
       "</style>\n",
       "<table id=\"T_95e43\">\n",
       "  <thead>\n",
       "    <tr>\n",
       "      <th class=\"blank level0\" >&nbsp;</th>\n",
       "      <th id=\"T_95e43_level0_col0\" class=\"col_heading level0 col0\" >CryoSleep</th>\n",
       "      <th id=\"T_95e43_level0_col1\" class=\"col_heading level0 col1\" >RoomService</th>\n",
       "      <th id=\"T_95e43_level0_col2\" class=\"col_heading level0 col2\" >FoodCourt</th>\n",
       "      <th id=\"T_95e43_level0_col3\" class=\"col_heading level0 col3\" >ShoppingMall</th>\n",
       "      <th id=\"T_95e43_level0_col4\" class=\"col_heading level0 col4\" >Spa</th>\n",
       "      <th id=\"T_95e43_level0_col5\" class=\"col_heading level0 col5\" >VRDeck</th>\n",
       "      <th id=\"T_95e43_level0_col6\" class=\"col_heading level0 col6\" >Transported</th>\n",
       "    </tr>\n",
       "  </thead>\n",
       "  <tbody>\n",
       "    <tr>\n",
       "      <th id=\"T_95e43_level0_row0\" class=\"row_heading level0 row0\" >CryoSleep</th>\n",
       "      <td id=\"T_95e43_row0_col0\" class=\"data row0 col0\" >1.000000</td>\n",
       "      <td id=\"T_95e43_row0_col1\" class=\"data row0 col1\" >-0.508773</td>\n",
       "      <td id=\"T_95e43_row0_col2\" class=\"data row0 col2\" >-0.522937</td>\n",
       "      <td id=\"T_95e43_row0_col3\" class=\"data row0 col3\" >-0.504369</td>\n",
       "      <td id=\"T_95e43_row0_col4\" class=\"data row0 col4\" >-0.538649</td>\n",
       "      <td id=\"T_95e43_row0_col5\" class=\"data row0 col5\" >-0.517701</td>\n",
       "      <td id=\"T_95e43_row0_col6\" class=\"data row0 col6\" >0.460132</td>\n",
       "    </tr>\n",
       "    <tr>\n",
       "      <th id=\"T_95e43_level0_row1\" class=\"row_heading level0 row1\" >RoomService</th>\n",
       "      <td id=\"T_95e43_row1_col0\" class=\"data row1 col0\" >-0.508773</td>\n",
       "      <td id=\"T_95e43_row1_col1\" class=\"data row1 col1\" >1.000000</td>\n",
       "      <td id=\"T_95e43_row1_col2\" class=\"data row1 col2\" >0.181157</td>\n",
       "      <td id=\"T_95e43_row1_col3\" class=\"data row1 col3\" >0.430106</td>\n",
       "      <td id=\"T_95e43_row1_col4\" class=\"data row1 col4\" >0.239521</td>\n",
       "      <td id=\"T_95e43_row1_col5\" class=\"data row1 col5\" >0.180872</td>\n",
       "      <td id=\"T_95e43_row1_col6\" class=\"data row1 col6\" >-0.363899</td>\n",
       "    </tr>\n",
       "    <tr>\n",
       "      <th id=\"T_95e43_level0_row2\" class=\"row_heading level0 row2\" >FoodCourt</th>\n",
       "      <td id=\"T_95e43_row2_col0\" class=\"data row2 col0\" >-0.522937</td>\n",
       "      <td id=\"T_95e43_row2_col1\" class=\"data row2 col1\" >0.181157</td>\n",
       "      <td id=\"T_95e43_row2_col2\" class=\"data row2 col2\" >1.000000</td>\n",
       "      <td id=\"T_95e43_row2_col3\" class=\"data row2 col3\" >0.185407</td>\n",
       "      <td id=\"T_95e43_row2_col4\" class=\"data row2 col4\" >0.470270</td>\n",
       "      <td id=\"T_95e43_row2_col5\" class=\"data row2 col5\" >0.497026</td>\n",
       "      <td id=\"T_95e43_row2_col6\" class=\"data row2 col6\" >-0.186388</td>\n",
       "    </tr>\n",
       "    <tr>\n",
       "      <th id=\"T_95e43_level0_row3\" class=\"row_heading level0 row3\" >ShoppingMall</th>\n",
       "      <td id=\"T_95e43_row3_col0\" class=\"data row3 col0\" >-0.504369</td>\n",
       "      <td id=\"T_95e43_row3_col1\" class=\"data row3 col1\" >0.430106</td>\n",
       "      <td id=\"T_95e43_row3_col2\" class=\"data row3 col2\" >0.185407</td>\n",
       "      <td id=\"T_95e43_row3_col3\" class=\"data row3 col3\" >1.000000</td>\n",
       "      <td id=\"T_95e43_row3_col4\" class=\"data row3 col4\" >0.253359</td>\n",
       "      <td id=\"T_95e43_row3_col5\" class=\"data row3 col5\" >0.187538</td>\n",
       "      <td id=\"T_95e43_row3_col6\" class=\"data row3 col6\" >-0.227018</td>\n",
       "    </tr>\n",
       "    <tr>\n",
       "      <th id=\"T_95e43_level0_row4\" class=\"row_heading level0 row4\" >Spa</th>\n",
       "      <td id=\"T_95e43_row4_col0\" class=\"data row4 col0\" >-0.538649</td>\n",
       "      <td id=\"T_95e43_row4_col1\" class=\"data row4 col1\" >0.239521</td>\n",
       "      <td id=\"T_95e43_row4_col2\" class=\"data row4 col2\" >0.470270</td>\n",
       "      <td id=\"T_95e43_row4_col3\" class=\"data row4 col3\" >0.253359</td>\n",
       "      <td id=\"T_95e43_row4_col4\" class=\"data row4 col4\" >1.000000</td>\n",
       "      <td id=\"T_95e43_row4_col5\" class=\"data row4 col5\" >0.437234</td>\n",
       "      <td id=\"T_95e43_row4_col6\" class=\"data row4 col6\" >-0.366099</td>\n",
       "    </tr>\n",
       "    <tr>\n",
       "      <th id=\"T_95e43_level0_row5\" class=\"row_heading level0 row5\" >VRDeck</th>\n",
       "      <td id=\"T_95e43_row5_col0\" class=\"data row5 col0\" >-0.517701</td>\n",
       "      <td id=\"T_95e43_row5_col1\" class=\"data row5 col1\" >0.180872</td>\n",
       "      <td id=\"T_95e43_row5_col2\" class=\"data row5 col2\" >0.497026</td>\n",
       "      <td id=\"T_95e43_row5_col3\" class=\"data row5 col3\" >0.187538</td>\n",
       "      <td id=\"T_95e43_row5_col4\" class=\"data row5 col4\" >0.437234</td>\n",
       "      <td id=\"T_95e43_row5_col5\" class=\"data row5 col5\" >1.000000</td>\n",
       "      <td id=\"T_95e43_row5_col6\" class=\"data row5 col6\" >-0.347008</td>\n",
       "    </tr>\n",
       "    <tr>\n",
       "      <th id=\"T_95e43_level0_row6\" class=\"row_heading level0 row6\" >Transported</th>\n",
       "      <td id=\"T_95e43_row6_col0\" class=\"data row6 col0\" >0.460132</td>\n",
       "      <td id=\"T_95e43_row6_col1\" class=\"data row6 col1\" >-0.363899</td>\n",
       "      <td id=\"T_95e43_row6_col2\" class=\"data row6 col2\" >-0.186388</td>\n",
       "      <td id=\"T_95e43_row6_col3\" class=\"data row6 col3\" >-0.227018</td>\n",
       "      <td id=\"T_95e43_row6_col4\" class=\"data row6 col4\" >-0.366099</td>\n",
       "      <td id=\"T_95e43_row6_col5\" class=\"data row6 col5\" >-0.347008</td>\n",
       "      <td id=\"T_95e43_row6_col6\" class=\"data row6 col6\" >1.000000</td>\n",
       "    </tr>\n",
       "  </tbody>\n",
       "</table>\n"
      ],
      "text/plain": [
       "<pandas.io.formats.style.Styler at 0x2383f941a80>"
      ]
     },
     "execution_count": 325,
     "metadata": {},
     "output_type": "execute_result"
    }
   ],
   "source": [
    "(Xtrain\n",
    " .assign(Transported=ytrain==True)\n",
    " .corr(method='spearman')\n",
    " .style\n",
    " .background_gradient(cmap='RdBu',vmax=1,vmin=-1)\n",
    " .set_sticky(axis='index')\n",
    ")"
   ]
  },
  {
   "attachments": {},
   "cell_type": "markdown",
   "metadata": {},
   "source": [
    "It seems that the persons who have billed luxury amenities have a negative relationship with being transported. In simple words, the people who have bills are less likely to be transported."
   ]
  },
  {
   "cell_type": "code",
   "execution_count": 326,
   "metadata": {},
   "outputs": [
    {
     "ename": "ValueError",
     "evalue": "DataFrame.dtypes for data must be int, float, bool or category.  When\ncategorical type is supplied, DMatrix parameter `enable_categorical` must\nbe set to `True`. Invalid columns:Cabin",
     "output_type": "error",
     "traceback": [
      "\u001b[1;31m---------------------------------------------------------------------------\u001b[0m",
      "\u001b[1;31mValueError\u001b[0m                                Traceback (most recent call last)",
      "Cell \u001b[1;32mIn[326], line 5\u001b[0m\n\u001b[0;32m      2\u001b[0m \u001b[39mimport\u001b[39;00m \u001b[39mxgboost\u001b[39;00m \u001b[39mas\u001b[39;00m \u001b[39mxgb\u001b[39;00m\n\u001b[0;32m      4\u001b[0m random_for\u001b[39m=\u001b[39mxgb\u001b[39m.\u001b[39mXGBRFClassifier()\n\u001b[1;32m----> 5\u001b[0m random_for\u001b[39m.\u001b[39;49mfit(Xtrain,ytrain)\n\u001b[0;32m      6\u001b[0m res\u001b[39m=\u001b[39mrandom_for\u001b[39m.\u001b[39mpredict(Xtest)\n",
      "File \u001b[1;32mc:\\Users\\Tyreek ALEXANDER\\AppData\\Local\\Programs\\Python\\Python310\\lib\\site-packages\\xgboost\\core.py:532\u001b[0m, in \u001b[0;36m_deprecate_positional_args.<locals>.inner_f\u001b[1;34m(*args, **kwargs)\u001b[0m\n\u001b[0;32m    530\u001b[0m \u001b[39mfor\u001b[39;00m k, arg \u001b[39min\u001b[39;00m \u001b[39mzip\u001b[39m(sig\u001b[39m.\u001b[39mparameters, args):\n\u001b[0;32m    531\u001b[0m     kwargs[k] \u001b[39m=\u001b[39m arg\n\u001b[1;32m--> 532\u001b[0m \u001b[39mreturn\u001b[39;00m f(\u001b[39m*\u001b[39m\u001b[39m*\u001b[39mkwargs)\n",
      "File \u001b[1;32mc:\\Users\\Tyreek ALEXANDER\\AppData\\Local\\Programs\\Python\\Python310\\lib\\site-packages\\xgboost\\sklearn.py:1577\u001b[0m, in \u001b[0;36mXGBRFClassifier.fit\u001b[1;34m(self, X, y, sample_weight, base_margin, eval_set, eval_metric, early_stopping_rounds, verbose, xgb_model, sample_weight_eval_set, base_margin_eval_set, feature_weights, callbacks)\u001b[0m\n\u001b[0;32m   1575\u001b[0m args \u001b[39m=\u001b[39m {k: v \u001b[39mfor\u001b[39;00m k, v \u001b[39min\u001b[39;00m \u001b[39mlocals\u001b[39m()\u001b[39m.\u001b[39mitems() \u001b[39mif\u001b[39;00m k \u001b[39mnot\u001b[39;00m \u001b[39min\u001b[39;00m (\u001b[39m\"\u001b[39m\u001b[39mself\u001b[39m\u001b[39m\"\u001b[39m, \u001b[39m\"\u001b[39m\u001b[39m__class__\u001b[39m\u001b[39m\"\u001b[39m)}\n\u001b[0;32m   1576\u001b[0m _check_rf_callback(early_stopping_rounds, callbacks)\n\u001b[1;32m-> 1577\u001b[0m \u001b[39msuper\u001b[39m()\u001b[39m.\u001b[39mfit(\u001b[39m*\u001b[39m\u001b[39m*\u001b[39margs)\n\u001b[0;32m   1578\u001b[0m \u001b[39mreturn\u001b[39;00m \u001b[39mself\u001b[39m\n",
      "File \u001b[1;32mc:\\Users\\Tyreek ALEXANDER\\AppData\\Local\\Programs\\Python\\Python310\\lib\\site-packages\\xgboost\\core.py:532\u001b[0m, in \u001b[0;36m_deprecate_positional_args.<locals>.inner_f\u001b[1;34m(*args, **kwargs)\u001b[0m\n\u001b[0;32m    530\u001b[0m \u001b[39mfor\u001b[39;00m k, arg \u001b[39min\u001b[39;00m \u001b[39mzip\u001b[39m(sig\u001b[39m.\u001b[39mparameters, args):\n\u001b[0;32m    531\u001b[0m     kwargs[k] \u001b[39m=\u001b[39m arg\n\u001b[1;32m--> 532\u001b[0m \u001b[39mreturn\u001b[39;00m f(\u001b[39m*\u001b[39m\u001b[39m*\u001b[39mkwargs)\n",
      "File \u001b[1;32mc:\\Users\\Tyreek ALEXANDER\\AppData\\Local\\Programs\\Python\\Python310\\lib\\site-packages\\xgboost\\sklearn.py:1382\u001b[0m, in \u001b[0;36mXGBClassifier.fit\u001b[1;34m(self, X, y, sample_weight, base_margin, eval_set, eval_metric, early_stopping_rounds, verbose, xgb_model, sample_weight_eval_set, base_margin_eval_set, feature_weights, callbacks)\u001b[0m\n\u001b[0;32m   1377\u001b[0m     params[\u001b[39m\"\u001b[39m\u001b[39mnum_class\u001b[39m\u001b[39m\"\u001b[39m] \u001b[39m=\u001b[39m \u001b[39mself\u001b[39m\u001b[39m.\u001b[39mn_classes_\n\u001b[0;32m   1379\u001b[0m model, metric, params, early_stopping_rounds, callbacks \u001b[39m=\u001b[39m \u001b[39mself\u001b[39m\u001b[39m.\u001b[39m_configure_fit(\n\u001b[0;32m   1380\u001b[0m     xgb_model, eval_metric, params, early_stopping_rounds, callbacks\n\u001b[0;32m   1381\u001b[0m )\n\u001b[1;32m-> 1382\u001b[0m train_dmatrix, evals \u001b[39m=\u001b[39m _wrap_evaluation_matrices(\n\u001b[0;32m   1383\u001b[0m     missing\u001b[39m=\u001b[39;49m\u001b[39mself\u001b[39;49m\u001b[39m.\u001b[39;49mmissing,\n\u001b[0;32m   1384\u001b[0m     X\u001b[39m=\u001b[39;49mX,\n\u001b[0;32m   1385\u001b[0m     y\u001b[39m=\u001b[39;49my,\n\u001b[0;32m   1386\u001b[0m     group\u001b[39m=\u001b[39;49m\u001b[39mNone\u001b[39;49;00m,\n\u001b[0;32m   1387\u001b[0m     qid\u001b[39m=\u001b[39;49m\u001b[39mNone\u001b[39;49;00m,\n\u001b[0;32m   1388\u001b[0m     sample_weight\u001b[39m=\u001b[39;49msample_weight,\n\u001b[0;32m   1389\u001b[0m     base_margin\u001b[39m=\u001b[39;49mbase_margin,\n\u001b[0;32m   1390\u001b[0m     feature_weights\u001b[39m=\u001b[39;49mfeature_weights,\n\u001b[0;32m   1391\u001b[0m     eval_set\u001b[39m=\u001b[39;49meval_set,\n\u001b[0;32m   1392\u001b[0m     sample_weight_eval_set\u001b[39m=\u001b[39;49msample_weight_eval_set,\n\u001b[0;32m   1393\u001b[0m     base_margin_eval_set\u001b[39m=\u001b[39;49mbase_margin_eval_set,\n\u001b[0;32m   1394\u001b[0m     eval_group\u001b[39m=\u001b[39;49m\u001b[39mNone\u001b[39;49;00m,\n\u001b[0;32m   1395\u001b[0m     eval_qid\u001b[39m=\u001b[39;49m\u001b[39mNone\u001b[39;49;00m,\n\u001b[0;32m   1396\u001b[0m     create_dmatrix\u001b[39m=\u001b[39;49m\u001b[39mlambda\u001b[39;49;00m \u001b[39m*\u001b[39;49m\u001b[39m*\u001b[39;49mkwargs: DMatrix(nthread\u001b[39m=\u001b[39;49m\u001b[39mself\u001b[39;49m\u001b[39m.\u001b[39;49mn_jobs, \u001b[39m*\u001b[39;49m\u001b[39m*\u001b[39;49mkwargs),\n\u001b[0;32m   1397\u001b[0m     enable_categorical\u001b[39m=\u001b[39;49m\u001b[39mself\u001b[39;49m\u001b[39m.\u001b[39;49menable_categorical,\n\u001b[0;32m   1398\u001b[0m )\n\u001b[0;32m   1400\u001b[0m \u001b[39mself\u001b[39m\u001b[39m.\u001b[39m_Booster \u001b[39m=\u001b[39m train(\n\u001b[0;32m   1401\u001b[0m     params,\n\u001b[0;32m   1402\u001b[0m     train_dmatrix,\n\u001b[1;32m   (...)\u001b[0m\n\u001b[0;32m   1411\u001b[0m     callbacks\u001b[39m=\u001b[39mcallbacks,\n\u001b[0;32m   1412\u001b[0m )\n\u001b[0;32m   1414\u001b[0m \u001b[39mif\u001b[39;00m \u001b[39mnot\u001b[39;00m \u001b[39mcallable\u001b[39m(\u001b[39mself\u001b[39m\u001b[39m.\u001b[39mobjective):\n",
      "File \u001b[1;32mc:\\Users\\Tyreek ALEXANDER\\AppData\\Local\\Programs\\Python\\Python310\\lib\\site-packages\\xgboost\\sklearn.py:401\u001b[0m, in \u001b[0;36m_wrap_evaluation_matrices\u001b[1;34m(missing, X, y, group, qid, sample_weight, base_margin, feature_weights, eval_set, sample_weight_eval_set, base_margin_eval_set, eval_group, eval_qid, create_dmatrix, enable_categorical)\u001b[0m\n\u001b[0;32m    381\u001b[0m \u001b[39mdef\u001b[39;00m \u001b[39m_wrap_evaluation_matrices\u001b[39m(\n\u001b[0;32m    382\u001b[0m     missing: \u001b[39mfloat\u001b[39m,\n\u001b[0;32m    383\u001b[0m     X: Any,\n\u001b[1;32m   (...)\u001b[0m\n\u001b[0;32m    396\u001b[0m     enable_categorical: \u001b[39mbool\u001b[39m,\n\u001b[0;32m    397\u001b[0m ) \u001b[39m-\u001b[39m\u001b[39m>\u001b[39m Tuple[Any, List[Tuple[Any, \u001b[39mstr\u001b[39m]]]:\n\u001b[0;32m    398\u001b[0m \u001b[39m    \u001b[39m\u001b[39m\"\"\"Convert array_like evaluation matrices into DMatrix.  Perform validation on the way.\u001b[39;00m\n\u001b[0;32m    399\u001b[0m \n\u001b[0;32m    400\u001b[0m \u001b[39m    \"\"\"\u001b[39;00m\n\u001b[1;32m--> 401\u001b[0m     train_dmatrix \u001b[39m=\u001b[39m create_dmatrix(\n\u001b[0;32m    402\u001b[0m         data\u001b[39m=\u001b[39;49mX,\n\u001b[0;32m    403\u001b[0m         label\u001b[39m=\u001b[39;49my,\n\u001b[0;32m    404\u001b[0m         group\u001b[39m=\u001b[39;49mgroup,\n\u001b[0;32m    405\u001b[0m         qid\u001b[39m=\u001b[39;49mqid,\n\u001b[0;32m    406\u001b[0m         weight\u001b[39m=\u001b[39;49msample_weight,\n\u001b[0;32m    407\u001b[0m         base_margin\u001b[39m=\u001b[39;49mbase_margin,\n\u001b[0;32m    408\u001b[0m         feature_weights\u001b[39m=\u001b[39;49mfeature_weights,\n\u001b[0;32m    409\u001b[0m         missing\u001b[39m=\u001b[39;49mmissing,\n\u001b[0;32m    410\u001b[0m         enable_categorical\u001b[39m=\u001b[39;49menable_categorical,\n\u001b[0;32m    411\u001b[0m     )\n\u001b[0;32m    413\u001b[0m     n_validation \u001b[39m=\u001b[39m \u001b[39m0\u001b[39m \u001b[39mif\u001b[39;00m eval_set \u001b[39mis\u001b[39;00m \u001b[39mNone\u001b[39;00m \u001b[39melse\u001b[39;00m \u001b[39mlen\u001b[39m(eval_set)\n\u001b[0;32m    415\u001b[0m     \u001b[39mdef\u001b[39;00m \u001b[39mvalidate_or_none\u001b[39m(meta: Optional[Sequence], name: \u001b[39mstr\u001b[39m) \u001b[39m-\u001b[39m\u001b[39m>\u001b[39m Sequence:\n",
      "File \u001b[1;32mc:\\Users\\Tyreek ALEXANDER\\AppData\\Local\\Programs\\Python\\Python310\\lib\\site-packages\\xgboost\\sklearn.py:1396\u001b[0m, in \u001b[0;36mXGBClassifier.fit.<locals>.<lambda>\u001b[1;34m(**kwargs)\u001b[0m\n\u001b[0;32m   1377\u001b[0m     params[\u001b[39m\"\u001b[39m\u001b[39mnum_class\u001b[39m\u001b[39m\"\u001b[39m] \u001b[39m=\u001b[39m \u001b[39mself\u001b[39m\u001b[39m.\u001b[39mn_classes_\n\u001b[0;32m   1379\u001b[0m model, metric, params, early_stopping_rounds, callbacks \u001b[39m=\u001b[39m \u001b[39mself\u001b[39m\u001b[39m.\u001b[39m_configure_fit(\n\u001b[0;32m   1380\u001b[0m     xgb_model, eval_metric, params, early_stopping_rounds, callbacks\n\u001b[0;32m   1381\u001b[0m )\n\u001b[0;32m   1382\u001b[0m train_dmatrix, evals \u001b[39m=\u001b[39m _wrap_evaluation_matrices(\n\u001b[0;32m   1383\u001b[0m     missing\u001b[39m=\u001b[39m\u001b[39mself\u001b[39m\u001b[39m.\u001b[39mmissing,\n\u001b[0;32m   1384\u001b[0m     X\u001b[39m=\u001b[39mX,\n\u001b[0;32m   1385\u001b[0m     y\u001b[39m=\u001b[39my,\n\u001b[0;32m   1386\u001b[0m     group\u001b[39m=\u001b[39m\u001b[39mNone\u001b[39;00m,\n\u001b[0;32m   1387\u001b[0m     qid\u001b[39m=\u001b[39m\u001b[39mNone\u001b[39;00m,\n\u001b[0;32m   1388\u001b[0m     sample_weight\u001b[39m=\u001b[39msample_weight,\n\u001b[0;32m   1389\u001b[0m     base_margin\u001b[39m=\u001b[39mbase_margin,\n\u001b[0;32m   1390\u001b[0m     feature_weights\u001b[39m=\u001b[39mfeature_weights,\n\u001b[0;32m   1391\u001b[0m     eval_set\u001b[39m=\u001b[39meval_set,\n\u001b[0;32m   1392\u001b[0m     sample_weight_eval_set\u001b[39m=\u001b[39msample_weight_eval_set,\n\u001b[0;32m   1393\u001b[0m     base_margin_eval_set\u001b[39m=\u001b[39mbase_margin_eval_set,\n\u001b[0;32m   1394\u001b[0m     eval_group\u001b[39m=\u001b[39m\u001b[39mNone\u001b[39;00m,\n\u001b[0;32m   1395\u001b[0m     eval_qid\u001b[39m=\u001b[39m\u001b[39mNone\u001b[39;00m,\n\u001b[1;32m-> 1396\u001b[0m     create_dmatrix\u001b[39m=\u001b[39m\u001b[39mlambda\u001b[39;00m \u001b[39m*\u001b[39m\u001b[39m*\u001b[39mkwargs: DMatrix(nthread\u001b[39m=\u001b[39m\u001b[39mself\u001b[39m\u001b[39m.\u001b[39mn_jobs, \u001b[39m*\u001b[39m\u001b[39m*\u001b[39mkwargs),\n\u001b[0;32m   1397\u001b[0m     enable_categorical\u001b[39m=\u001b[39m\u001b[39mself\u001b[39m\u001b[39m.\u001b[39menable_categorical,\n\u001b[0;32m   1398\u001b[0m )\n\u001b[0;32m   1400\u001b[0m \u001b[39mself\u001b[39m\u001b[39m.\u001b[39m_Booster \u001b[39m=\u001b[39m train(\n\u001b[0;32m   1401\u001b[0m     params,\n\u001b[0;32m   1402\u001b[0m     train_dmatrix,\n\u001b[1;32m   (...)\u001b[0m\n\u001b[0;32m   1411\u001b[0m     callbacks\u001b[39m=\u001b[39mcallbacks,\n\u001b[0;32m   1412\u001b[0m )\n\u001b[0;32m   1414\u001b[0m \u001b[39mif\u001b[39;00m \u001b[39mnot\u001b[39;00m \u001b[39mcallable\u001b[39m(\u001b[39mself\u001b[39m\u001b[39m.\u001b[39mobjective):\n",
      "File \u001b[1;32mc:\\Users\\Tyreek ALEXANDER\\AppData\\Local\\Programs\\Python\\Python310\\lib\\site-packages\\xgboost\\core.py:532\u001b[0m, in \u001b[0;36m_deprecate_positional_args.<locals>.inner_f\u001b[1;34m(*args, **kwargs)\u001b[0m\n\u001b[0;32m    530\u001b[0m \u001b[39mfor\u001b[39;00m k, arg \u001b[39min\u001b[39;00m \u001b[39mzip\u001b[39m(sig\u001b[39m.\u001b[39mparameters, args):\n\u001b[0;32m    531\u001b[0m     kwargs[k] \u001b[39m=\u001b[39m arg\n\u001b[1;32m--> 532\u001b[0m \u001b[39mreturn\u001b[39;00m f(\u001b[39m*\u001b[39m\u001b[39m*\u001b[39mkwargs)\n",
      "File \u001b[1;32mc:\\Users\\Tyreek ALEXANDER\\AppData\\Local\\Programs\\Python\\Python310\\lib\\site-packages\\xgboost\\core.py:643\u001b[0m, in \u001b[0;36mDMatrix.__init__\u001b[1;34m(self, data, label, weight, base_margin, missing, silent, feature_names, feature_types, nthread, group, qid, label_lower_bound, label_upper_bound, feature_weights, enable_categorical)\u001b[0m\n\u001b[0;32m    640\u001b[0m     \u001b[39massert\u001b[39;00m \u001b[39mself\u001b[39m\u001b[39m.\u001b[39mhandle \u001b[39mis\u001b[39;00m \u001b[39mnot\u001b[39;00m \u001b[39mNone\u001b[39;00m\n\u001b[0;32m    641\u001b[0m     \u001b[39mreturn\u001b[39;00m\n\u001b[1;32m--> 643\u001b[0m handle, feature_names, feature_types \u001b[39m=\u001b[39m dispatch_data_backend(\n\u001b[0;32m    644\u001b[0m     data,\n\u001b[0;32m    645\u001b[0m     missing\u001b[39m=\u001b[39;49m\u001b[39mself\u001b[39;49m\u001b[39m.\u001b[39;49mmissing,\n\u001b[0;32m    646\u001b[0m     threads\u001b[39m=\u001b[39;49m\u001b[39mself\u001b[39;49m\u001b[39m.\u001b[39;49mnthread,\n\u001b[0;32m    647\u001b[0m     feature_names\u001b[39m=\u001b[39;49mfeature_names,\n\u001b[0;32m    648\u001b[0m     feature_types\u001b[39m=\u001b[39;49mfeature_types,\n\u001b[0;32m    649\u001b[0m     enable_categorical\u001b[39m=\u001b[39;49menable_categorical,\n\u001b[0;32m    650\u001b[0m )\n\u001b[0;32m    651\u001b[0m \u001b[39massert\u001b[39;00m handle \u001b[39mis\u001b[39;00m \u001b[39mnot\u001b[39;00m \u001b[39mNone\u001b[39;00m\n\u001b[0;32m    652\u001b[0m \u001b[39mself\u001b[39m\u001b[39m.\u001b[39mhandle \u001b[39m=\u001b[39m handle\n",
      "File \u001b[1;32mc:\\Users\\Tyreek ALEXANDER\\AppData\\Local\\Programs\\Python\\Python310\\lib\\site-packages\\xgboost\\data.py:896\u001b[0m, in \u001b[0;36mdispatch_data_backend\u001b[1;34m(data, missing, threads, feature_names, feature_types, enable_categorical)\u001b[0m\n\u001b[0;32m    894\u001b[0m     \u001b[39mreturn\u001b[39;00m _from_tuple(data, missing, threads, feature_names, feature_types)\n\u001b[0;32m    895\u001b[0m \u001b[39mif\u001b[39;00m _is_pandas_df(data):\n\u001b[1;32m--> 896\u001b[0m     \u001b[39mreturn\u001b[39;00m _from_pandas_df(data, enable_categorical, missing, threads,\n\u001b[0;32m    897\u001b[0m                            feature_names, feature_types)\n\u001b[0;32m    898\u001b[0m \u001b[39mif\u001b[39;00m _is_pandas_series(data):\n\u001b[0;32m    899\u001b[0m     \u001b[39mreturn\u001b[39;00m _from_pandas_series(\n\u001b[0;32m    900\u001b[0m         data, missing, threads, enable_categorical, feature_names, feature_types\n\u001b[0;32m    901\u001b[0m     )\n",
      "File \u001b[1;32mc:\\Users\\Tyreek ALEXANDER\\AppData\\Local\\Programs\\Python\\Python310\\lib\\site-packages\\xgboost\\data.py:345\u001b[0m, in \u001b[0;36m_from_pandas_df\u001b[1;34m(data, enable_categorical, missing, nthread, feature_names, feature_types)\u001b[0m\n\u001b[0;32m    337\u001b[0m \u001b[39mdef\u001b[39;00m \u001b[39m_from_pandas_df\u001b[39m(\n\u001b[0;32m    338\u001b[0m     data: DataFrame,\n\u001b[0;32m    339\u001b[0m     enable_categorical: \u001b[39mbool\u001b[39m,\n\u001b[1;32m   (...)\u001b[0m\n\u001b[0;32m    343\u001b[0m     feature_types: Optional[List[\u001b[39mstr\u001b[39m]],\n\u001b[0;32m    344\u001b[0m ) \u001b[39m-\u001b[39m\u001b[39m>\u001b[39m Tuple[ctypes\u001b[39m.\u001b[39mc_void_p, FeatureNames, Optional[List[\u001b[39mstr\u001b[39m]]]:\n\u001b[1;32m--> 345\u001b[0m     data, feature_names, feature_types \u001b[39m=\u001b[39m _transform_pandas_df(\n\u001b[0;32m    346\u001b[0m         data, enable_categorical, feature_names, feature_types\n\u001b[0;32m    347\u001b[0m     )\n\u001b[0;32m    348\u001b[0m     \u001b[39mreturn\u001b[39;00m _from_numpy_array(data, missing, nthread, feature_names, feature_types)\n",
      "File \u001b[1;32mc:\\Users\\Tyreek ALEXANDER\\AppData\\Local\\Programs\\Python\\Python310\\lib\\site-packages\\xgboost\\data.py:283\u001b[0m, in \u001b[0;36m_transform_pandas_df\u001b[1;34m(data, enable_categorical, feature_names, feature_types, meta, meta_type)\u001b[0m\n\u001b[0;32m    274\u001b[0m     \u001b[39mreturn\u001b[39;00m is_int \u001b[39mor\u001b[39;00m is_bool\n\u001b[0;32m    276\u001b[0m \u001b[39mif\u001b[39;00m \u001b[39mnot\u001b[39;00m \u001b[39mall\u001b[39m(\n\u001b[0;32m    277\u001b[0m     dtype\u001b[39m.\u001b[39mname \u001b[39min\u001b[39;00m _pandas_dtype_mapper\n\u001b[0;32m    278\u001b[0m     \u001b[39mor\u001b[39;00m is_sparse(dtype)\n\u001b[1;32m   (...)\u001b[0m\n\u001b[0;32m    281\u001b[0m     \u001b[39mfor\u001b[39;00m dtype \u001b[39min\u001b[39;00m data\u001b[39m.\u001b[39mdtypes\n\u001b[0;32m    282\u001b[0m ):\n\u001b[1;32m--> 283\u001b[0m     _invalid_dataframe_dtype(data)\n\u001b[0;32m    285\u001b[0m \u001b[39m# handle feature names\u001b[39;00m\n\u001b[0;32m    286\u001b[0m \u001b[39mif\u001b[39;00m feature_names \u001b[39mis\u001b[39;00m \u001b[39mNone\u001b[39;00m \u001b[39mand\u001b[39;00m meta \u001b[39mis\u001b[39;00m \u001b[39mNone\u001b[39;00m:\n",
      "File \u001b[1;32mc:\\Users\\Tyreek ALEXANDER\\AppData\\Local\\Programs\\Python\\Python310\\lib\\site-packages\\xgboost\\data.py:247\u001b[0m, in \u001b[0;36m_invalid_dataframe_dtype\u001b[1;34m(data)\u001b[0m\n\u001b[0;32m    242\u001b[0m         err \u001b[39m=\u001b[39m \u001b[39m\"\u001b[39m\u001b[39m\"\u001b[39m\n\u001b[0;32m    244\u001b[0m     msg \u001b[39m=\u001b[39m \u001b[39m\"\"\"\u001b[39m\u001b[39mDataFrame.dtypes for data must be int, float, bool or category.  When\u001b[39m\n\u001b[0;32m    245\u001b[0m \u001b[39mcategorical type is supplied, DMatrix parameter `enable_categorical` must\u001b[39m\n\u001b[0;32m    246\u001b[0m \u001b[39mbe set to `True`.\u001b[39m\u001b[39m\"\"\"\u001b[39m \u001b[39m+\u001b[39m err\n\u001b[1;32m--> 247\u001b[0m     \u001b[39mraise\u001b[39;00m \u001b[39mValueError\u001b[39;00m(msg)\n",
      "\u001b[1;31mValueError\u001b[0m: DataFrame.dtypes for data must be int, float, bool or category.  When\ncategorical type is supplied, DMatrix parameter `enable_categorical` must\nbe set to `True`. Invalid columns:Cabin"
     ]
    }
   ],
   "source": [
    "# prediction\n",
    "import xgboost as xgb\n",
    "\n",
    "random_for=xgb.XGBRFClassifier()\n",
    "random_for.fit(Xtrain,ytrain)\n",
    "res=random_for.predict(Xtest)"
   ]
  },
  {
   "cell_type": "code",
   "execution_count": null,
   "metadata": {},
   "outputs": [],
   "source": [
    "decoded_res=res_encoder.inverse_transform(res)"
   ]
  },
  {
   "cell_type": "code",
   "execution_count": null,
   "metadata": {},
   "outputs": [],
   "source": [
    "# submission\n",
    "result=pd.DataFrame({'PassengerId':raw_test.PassengerId,'Transported':decoded_res})"
   ]
  },
  {
   "cell_type": "code",
   "execution_count": null,
   "metadata": {},
   "outputs": [
    {
     "data": {
      "text/html": [
       "<div>\n",
       "<style scoped>\n",
       "    .dataframe tbody tr th:only-of-type {\n",
       "        vertical-align: middle;\n",
       "    }\n",
       "\n",
       "    .dataframe tbody tr th {\n",
       "        vertical-align: top;\n",
       "    }\n",
       "\n",
       "    .dataframe thead th {\n",
       "        text-align: right;\n",
       "    }\n",
       "</style>\n",
       "<table border=\"1\" class=\"dataframe\">\n",
       "  <thead>\n",
       "    <tr style=\"text-align: right;\">\n",
       "      <th></th>\n",
       "      <th>PassengerId</th>\n",
       "      <th>Transported</th>\n",
       "    </tr>\n",
       "  </thead>\n",
       "  <tbody>\n",
       "    <tr>\n",
       "      <th>0</th>\n",
       "      <td>0013_01</td>\n",
       "      <td>True</td>\n",
       "    </tr>\n",
       "    <tr>\n",
       "      <th>1</th>\n",
       "      <td>0018_01</td>\n",
       "      <td>False</td>\n",
       "    </tr>\n",
       "    <tr>\n",
       "      <th>2</th>\n",
       "      <td>0019_01</td>\n",
       "      <td>True</td>\n",
       "    </tr>\n",
       "    <tr>\n",
       "      <th>3</th>\n",
       "      <td>0021_01</td>\n",
       "      <td>True</td>\n",
       "    </tr>\n",
       "    <tr>\n",
       "      <th>4</th>\n",
       "      <td>0023_01</td>\n",
       "      <td>True</td>\n",
       "    </tr>\n",
       "    <tr>\n",
       "      <th>...</th>\n",
       "      <td>...</td>\n",
       "      <td>...</td>\n",
       "    </tr>\n",
       "    <tr>\n",
       "      <th>4272</th>\n",
       "      <td>9266_02</td>\n",
       "      <td>True</td>\n",
       "    </tr>\n",
       "    <tr>\n",
       "      <th>4273</th>\n",
       "      <td>9269_01</td>\n",
       "      <td>False</td>\n",
       "    </tr>\n",
       "    <tr>\n",
       "      <th>4274</th>\n",
       "      <td>9271_01</td>\n",
       "      <td>True</td>\n",
       "    </tr>\n",
       "    <tr>\n",
       "      <th>4275</th>\n",
       "      <td>9273_01</td>\n",
       "      <td>True</td>\n",
       "    </tr>\n",
       "    <tr>\n",
       "      <th>4276</th>\n",
       "      <td>9277_01</td>\n",
       "      <td>True</td>\n",
       "    </tr>\n",
       "  </tbody>\n",
       "</table>\n",
       "<p>4277 rows × 2 columns</p>\n",
       "</div>"
      ],
      "text/plain": [
       "     PassengerId  Transported\n",
       "0        0013_01         True\n",
       "1        0018_01        False\n",
       "2        0019_01         True\n",
       "3        0021_01         True\n",
       "4        0023_01         True\n",
       "...          ...          ...\n",
       "4272     9266_02         True\n",
       "4273     9269_01        False\n",
       "4274     9271_01         True\n",
       "4275     9273_01         True\n",
       "4276     9277_01         True\n",
       "\n",
       "[4277 rows x 2 columns]"
      ]
     },
     "execution_count": 267,
     "metadata": {},
     "output_type": "execute_result"
    }
   ],
   "source": [
    "result"
   ]
  },
  {
   "cell_type": "code",
   "execution_count": null,
   "metadata": {},
   "outputs": [],
   "source": [
    "result.to_csv('sub1.csv',index=False)\n"
   ]
  },
  {
   "cell_type": "code",
   "execution_count": null,
   "metadata": {},
   "outputs": [],
   "source": [
    "stump_dt=xgb.XGBClassifier()\n",
    "stump_dt.fit(Xtrain,ytrain)\n",
    "res2=stump_dt.predict(Xtest)"
   ]
  },
  {
   "cell_type": "code",
   "execution_count": null,
   "metadata": {},
   "outputs": [],
   "source": [
    "res2=pd.DataFrame({'PassengerId':raw_test.PassengerId,'Transported':res_encoder.inverse_transform(res)})\n",
    "\n",
    "res2.to_csv('res2.csv',index=False)"
   ]
  }
 ],
 "metadata": {
  "kernelspec": {
   "display_name": "Python 3",
   "language": "python",
   "name": "python3"
  },
  "language_info": {
   "codemirror_mode": {
    "name": "ipython",
    "version": 3
   },
   "file_extension": ".py",
   "mimetype": "text/x-python",
   "name": "python",
   "nbconvert_exporter": "python",
   "pygments_lexer": "ipython3",
   "version": "3.10.5"
  },
  "orig_nbformat": 4
 },
 "nbformat": 4,
 "nbformat_minor": 2
}
