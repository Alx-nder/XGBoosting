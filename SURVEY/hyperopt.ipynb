{
 "cells": [
  {
   "cell_type": "code",
   "execution_count": 1,
   "metadata": {},
   "outputs": [
    {
     "name": "stderr",
     "output_type": "stream",
     "text": [
      "c:\\Users\\Tyreek ALEXANDER\\OneDrive - Northern Caribbean University\\Documents\\EffectiveXGBoost\\SURVEY\\data_cleaning.py:19: DtypeWarning: Columns (0,2,8,10,21,23,24,25,26,27,28,44,56,64,83,85,87,107,109,123,125,150,157,172,174,194,210,218,219,223,246,249,262,264,276,277,278,279,280,281,282,283,284,285,286,287,288,289,290,304,306,325,326,329,341,368,371,384,385,389,390,391,393,394) have mixed types. Specify dtype option on import or set low_memory=False.\n",
      "  kag=pd.read_csv(z.open(member_name))\n"
     ]
    }
   ],
   "source": [
    "from data_cleaning import *"
   ]
  },
  {
   "cell_type": "code",
   "execution_count": 2,
   "metadata": {},
   "outputs": [],
   "source": [
    "from hyperopt import fmin,tpe,hp,STATUS_OK,Trials\n",
    "from sklearn.metrics import accuracy_score,roc_auc_score\n",
    "\n",
    "from typing import Any, Dict, Union\n",
    "import xgboost as xgb"
   ]
  },
  {
   "cell_type": "code",
   "execution_count": 3,
   "metadata": {},
   "outputs": [],
   "source": [
    "def hyperparameter_tuning(space: Dict[str,Union[float,int]],\n",
    "                          Xtrain:pd.DataFrame,\n",
    "                          ytrain:pd.Series,\n",
    "                          Xtest:pd.DataFrame,\n",
    "                          ytest:pd.Series,\n",
    "                          early_stopping_rounds:int=50,\n",
    "                          metric:callable=accuracy_score)->Dict[str, Any]:\n",
    "    int_vals=['max_depth','reg_alpha']\n",
    "    space={k:(int(val) if k in int_vals else val)\n",
    "           for k,val in space.items()}\n",
    "    space['early_stopping_rounds']= early_stopping_rounds\n",
    "    model = xgb.XGBClassifier(**space)\n",
    "    evaluation=[(Xtrain,ytrain),(Xtest,ytest)]\n",
    "\n",
    "    model.fit(Xtrain,ytrain,\n",
    "              eval_set=evaluation,\n",
    "              verbose=False)\n",
    "    pred=model.predict(Xtest)\n",
    "    score=metric(ytest,pred)\n",
    "    return{'loss':-score,'status':STATUS_OK,'model':model}"
   ]
  },
  {
   "cell_type": "code",
   "execution_count": null,
   "metadata": {},
   "outputs": [],
   "source": [
    "options={'max_depth':hp.quniform('max_depth',1,8,1),\n",
    "         'min_child_weight':hp.loguniform('min_child_weight',-2,3),\n",
    "         'subsample':hp.uniform('subsample',0.5,1),\n",
    "         'colsample_bytree':hp.uniform('colsample_bytree',0.5,0.1),\n",
    "         'reg_alpha':hp.uniform('reg_alpha',0,10),\n",
    "         'reg_lambda':hp.uniform('reg_lambda',1,10),\n",
    "         'gamma':hp.loguniform('gamma',-10,10),\n",
    "         'learning_rate':hp.loguniform('learning_rate',-7,0),\n",
    "         'random_state':42}"
   ]
  },
  {
   "cell_type": "code",
   "execution_count": null,
   "metadata": {},
   "outputs": [],
   "source": [
    "trials=Trials()\n",
    "best=fmin(fn=lambda space: hyperparameter_tuning(space,Xtrain,ytrain,Xtest,ytest),\n",
    "          space=options,\n",
    "          algo=tpe.suggest,\n",
    "          max_evals=2_000,\n",
    "          trials=trials)"
   ]
  }
 ],
 "metadata": {
  "kernelspec": {
   "display_name": "Python 3",
   "language": "python",
   "name": "python3"
  },
  "language_info": {
   "codemirror_mode": {
    "name": "ipython",
    "version": 3
   },
   "file_extension": ".py",
   "mimetype": "text/x-python",
   "name": "python",
   "nbconvert_exporter": "python",
   "pygments_lexer": "ipython3",
   "version": "3.10.5"
  },
  "orig_nbformat": 4
 },
 "nbformat": 4,
 "nbformat_minor": 2
}
